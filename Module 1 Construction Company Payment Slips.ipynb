{
 "cells": [
  {
   "cell_type": "code",
   "execution_count": null,
   "id": "f92808d7-c161-41c8-b219-2b2559646402",
   "metadata": {},
   "outputs": [],
   "source": [
    "import random"
   ]
  },
  {
   "cell_type": "code",
   "execution_count": null,
   "id": "7c4677c0-ab83-4748-ad04-dfa9fdffc055",
   "metadata": {},
   "outputs": [],
   "source": [
    "class Worker:\n",
    "    def __init__(self, id, name, gender, salary):\n",
    "        self.id = id\n",
    "        self.name = name\n",
    "        self.gender = gender\n",
    "        self.salary = salary\n",
    "        self.level = self.assign_level()\n",
    "\n",
    "    def assign_level(self):\n",
    "        try:\n",
    "            if 10000 < self.salary < 20000:\n",
    "                return \"A1\"\n",
    "            elif 7500 < self.salary < 30000 and self.gender.lower() == 'female':\n",
    "                return \"A5-F\"\n",
    "            else:\n",
    "                return \"N/A\"\n",
    "        except Exception as e:\n",
    "            return f\"Error assigning level: {str(e)}\"\n",
    "\n",
    "    def generate_payment_slip(self):\n",
    "        try:\n",
    "            return f\"Worker ID: {self.id}, Name: {self.name}, Gender: {self.gender}, Salary: ${self.salary}, Level: {self.level}\"\n",
    "        except Exception as e:\n",
    "            return f\"Error generating payment slip for Worker ID {self.id}: {str(e)}\""
   ]
  },
  {
   "cell_type": "code",
   "execution_count": null,
   "id": "965d1432-0c17-4cc9-9eb3-04a3f4e3ccd5",
   "metadata": {},
   "outputs": [],
   "source": [
    "# Generate a list of workers\n",
    "def create_workers(num_workers):\n",
    "    try:\n",
    "        num_workers = min(num_workers, 400)\n",
    "        names = [f\"Employee_{i}\" for i in range(1, num_workers + 1)]\n",
    "        genders = ['Male', 'Female']\n",
    "        workers = []\n",
    "\n",
    "        for i in range(num_workers):\n",
    "            name = names[i]\n",
    "            gender = random.choice(genders)\n",
    "            salary = random.randint(5000, 35000)\n",
    "            workers.append(Worker(i + 1, name, gender, salary))\n",
    "\n",
    "        return workers\n",
    "    except Exception as e:\n",
    "        print(f\"Error creating workers: {str(e)}\")\n",
    "        return []"
   ]
  },
  {
   "cell_type": "code",
   "execution_count": null,
   "id": "7a6dc63d-29c8-42b8-b43f-a8d112a88a35",
   "metadata": {},
   "outputs": [],
   "source": [
    "# Main function\n",
    "def main():\n",
    "    try:\n",
    "        while True:\n",
    "            user_input = input(\"Enter the number of workers to generate (max 400, default 400): \")\n",
    "            if user_input.isdigit() or user_input == \"\":\n",
    "                num_workers = int(user_input) if user_input else 400\n",
    "                break\n",
    "            else:\n",
    "                print(\"Invalid input. Please enter a valid number.\")\n",
    "\n",
    "        workers = create_workers(num_workers)\n",
    "        for worker in workers:\n",
    "            print(worker.generate_payment_slip())\n",
    "    except Exception as e:\n",
    "        print(f\"Unexpected error in main function: {str(e)}\")\n",
    "\n",
    "if __name__ == \"__main__\":\n",
    "    main()\n"
   ]
  }
 ],
 "metadata": {
  "kernelspec": {
   "display_name": "Python 3 (ipykernel)",
   "language": "python",
   "name": "python3"
  },
  "language_info": {
   "codemirror_mode": {
    "name": "ipython",
    "version": 3
   },
   "file_extension": ".py",
   "mimetype": "text/x-python",
   "name": "python",
   "nbconvert_exporter": "python",
   "pygments_lexer": "ipython3",
   "version": "3.11.7"
  }
 },
 "nbformat": 4,
 "nbformat_minor": 5
}
